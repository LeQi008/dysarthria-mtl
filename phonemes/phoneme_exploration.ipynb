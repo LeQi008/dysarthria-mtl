{
 "cells": [
  {
   "cell_type": "markdown",
   "id": "bdc35445",
   "metadata": {},
   "source": [
    "## Process an audio"
   ]
  },
  {
   "cell_type": "code",
   "execution_count": 1,
   "id": "7b1f7428",
   "metadata": {},
   "outputs": [
    {
     "name": "stderr",
     "output_type": "stream",
     "text": [
      "C:\\Users\\amoph\\AppData\\Local\\Temp\\ipykernel_12352\\3289419984.py:2: UserWarning: torchaudio._backend.set_audio_backend has been deprecated. With dispatcher enabled, this function is no-op. You can remove the function call.\n",
      "  torchaudio.set_audio_backend(\"soundfile\")\n"
     ]
    }
   ],
   "source": [
    "import torchaudio\n",
    "torchaudio.set_audio_backend(\"soundfile\")\n",
    "audio_path = r\"C:\\Users\\amoph\\Desktop\\speech_therapy\\torgo_dataset\\MC\\MC01\\Session1\\wav_headMic\\0194.wav\"\n",
    "waveform, sample_rate = torchaudio.load(audio_path)\n",
    "waveform = torchaudio.functional.resample(waveform, sample_rate, 16000)  # most models use 16kHz\n"
   ]
  },
  {
   "cell_type": "markdown",
   "id": "36e984d9",
   "metadata": {},
   "source": [
    "## Run through phoneme Model"
   ]
  },
  {
   "cell_type": "code",
   "execution_count": 4,
   "id": "ecfaf795",
   "metadata": {},
   "outputs": [
    {
     "name": "stderr",
     "output_type": "stream",
     "text": [
      "c:\\Users\\amoph\\Documents\\GitHub\\dysarthria-mtl\\venv\\lib\\site-packages\\huggingface_hub\\file_download.py:143: UserWarning: `huggingface_hub` cache-system uses symlinks by default to efficiently store duplicated files but your machine does not support them in C:\\Users\\amoph\\.cache\\huggingface\\hub\\models--excalibur12--wav2vec2-large-lv60_phoneme-timit_english_timit-4k. Caching files will still work but in a degraded version that might require more space on your disk. This warning can be disabled by setting the `HF_HUB_DISABLE_SYMLINKS_WARNING` environment variable. For more details, see https://huggingface.co/docs/huggingface_hub/how-to-cache#limitations.\n",
      "To support symlinks on Windows, you either need to activate Developer Mode or to run Python as an administrator. In order to activate developer mode, see this article: https://docs.microsoft.com/en-us/windows/apps/get-started/enable-your-device-for-development\n",
      "  warnings.warn(message)\n"
     ]
    },
    {
     "name": "stdout",
     "output_type": "stream",
     "text": [
      "h# jh ey n m ey q er n m ao r m ah n iy bcl b ay w er kcl k ix ng hh aa r dcl h#\n"
     ]
    }
   ],
   "source": [
    "from transformers import Wav2Vec2ForCTC, Wav2Vec2Processor\n",
    "import torch\n",
    "\n",
    "processor = Wav2Vec2Processor.from_pretrained(\"excalibur12/wav2vec2-large-lv60_phoneme-timit_english_timit-4k\")\n",
    "model = Wav2Vec2ForCTC.from_pretrained(\"excalibur12/wav2vec2-large-lv60_phoneme-timit_english_timit-4k\")\n",
    "\n",
    "inputs = processor(waveform.squeeze(), sampling_rate=16000, return_tensors=\"pt\")\n",
    "with torch.no_grad():\n",
    "    logits = model(**inputs).logits\n",
    "\n",
    "probs = torch.nn.functional.softmax(logits, dim=-1)\n",
    "pred_ids = torch.argmax(probs, dim=-1)\n",
    "transcription = processor.batch_decode(pred_ids)[0]\n",
    "\n",
    "print(transcription)"
   ]
  },
  {
   "cell_type": "code",
   "execution_count": null,
   "id": "571ef2ca",
   "metadata": {},
   "outputs": [],
   "source": []
  }
 ],
 "metadata": {
  "kernelspec": {
   "display_name": "venv",
   "language": "python",
   "name": "python3"
  },
  "language_info": {
   "codemirror_mode": {
    "name": "ipython",
    "version": 3
   },
   "file_extension": ".py",
   "mimetype": "text/x-python",
   "name": "python",
   "nbconvert_exporter": "python",
   "pygments_lexer": "ipython3",
   "version": "3.10.11"
  }
 },
 "nbformat": 4,
 "nbformat_minor": 5
}
